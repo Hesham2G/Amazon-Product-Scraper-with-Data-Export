{
 "cells": [
  {
   "cell_type": "code",
   "execution_count": 1,
   "id": "7cb7a020-f57c-4b02-8662-84aba13c7766",
   "metadata": {},
   "outputs": [
    {
     "name": "stdout",
     "output_type": "stream",
     "text": [
      "Data has been saved to product_data.csv\n"
     ]
    }
   ],
   "source": [
    "import requests\n",
    "from bs4 import BeautifulSoup\n",
    "import csv\n",
    "\n",
    "url = 'https://www.amazon.com/Lenovo-Tab-P11-Plus-1st/dp/B09B17DVYR/ref=sr_1_2?qid=1695021332&rnid=16225007011&s=computers-intl-ship&sr=1-2&th=1'\n",
    "headers = {\n",
    "    'User-Agent': 'Mozilla/5.0 (Windows NT 10.0; Win64; x64) AppleWebKit/537.36 (KHTML, like Gecko) Chrome/116.0.0.0 Safari/537.36'\n",
    "}\n",
    "response = requests.get(url, headers=headers)\n",
    "\n",
    "if response.status_code == 200:\n",
    "    soup = BeautifulSoup(response.text, 'html.parser')\n",
    "\n",
    "    title_element = soup.find('span', id='productTitle')\n",
    "    title = title_element.get_text(strip=True) if title_element else 'Title not found'\n",
    "    \n",
    "    price_element = soup.find('span', class_='a-price-whole')\n",
    "    price = price_element.get_text(strip=True) if price_element else 'Price not found'\n",
    "    \n",
    "    description_element = soup.find('div', id='productDescription')\n",
    "    description = description_element.get_text() if description_element else 'Description not found'\n",
    "    \n",
    "    image_element = soup.find('div', id='imgTagWrapperId')\n",
    "    if image_element:\n",
    "        image_url = image_element.find('img')['src']\n",
    "    else:\n",
    "        image_url = 'Image link not found'\n",
    "    \n",
    "    rating_element = soup.find('span', class_='reviewCountTextLinkedHistogram')\n",
    "    rating = rating_element['title'] if rating_element else 'Rating not found'\n",
    "    \n",
    "    reviews_element = soup.find('span', id='acrCustomerReviewText')\n",
    "    reviews = reviews_element.get_text(strip=True) if reviews_element else 'Number of reviews not found'\n",
    "    \n",
    "    with open('product_data.csv', mode='w', newline='') as csv_file:\n",
    "        writer = csv.writer(csv_file)\n",
    "        writer.writerow(['Title', 'Price', 'Description', 'Image Link', 'Rating', 'Number of Reviews'])\n",
    "        writer.writerow([title, price, description, image_url, rating, reviews])\n",
    "    \n",
    "    print('Data has been saved to product_data.csv')\n",
    "else:\n",
    "    print(str(response.status_code)+' - Error loading the page')"
   ]
  },
  {
   "cell_type": "code",
   "execution_count": 2,
   "id": "3fe358a0-cf36-4842-a83b-7d03269e0b7a",
   "metadata": {},
   "outputs": [],
   "source": [
    "url = 'https://www.amazon.com/s?bbn=16225007011&rh=n%3A16225007011%2Cn%3A13896617011&dc&qid=1695021317&rnid=16225007011&ref=lp_16225007011_nr_n_2'\n",
    "api_url = 'https://api.hasdata.com/scrape'\n",
    "api_key = 'PUT-YOUR-API-KEY'\n",
    "\n",
    "headers = {\n",
    "    'x-api-key': api_key,\n",
    "    'Content-Type': 'application/json'}"
   ]
  },
  {
   "cell_type": "code",
   "execution_count": 3,
   "id": "439e6082-e883-4538-a344-ec1e96a0bb49",
   "metadata": {},
   "outputs": [],
   "source": [
    "import requests\n",
    "import json\n",
    "import pandas as pd"
   ]
  },
  {
   "cell_type": "code",
   "execution_count": 4,
   "id": "a8727a58-7dfa-4b9c-b494-e175646e8135",
   "metadata": {},
   "outputs": [],
   "source": [
    "df=pd.read_csv('product_data.csv')"
   ]
  },
  {
   "cell_type": "code",
   "execution_count": 5,
   "id": "0f486259-a951-4dd9-8972-de22aca05d2f",
   "metadata": {},
   "outputs": [
    {
     "data": {
      "text/html": [
       "<div>\n",
       "<style scoped>\n",
       "    .dataframe tbody tr th:only-of-type {\n",
       "        vertical-align: middle;\n",
       "    }\n",
       "\n",
       "    .dataframe tbody tr th {\n",
       "        vertical-align: top;\n",
       "    }\n",
       "\n",
       "    .dataframe thead th {\n",
       "        text-align: right;\n",
       "    }\n",
       "</style>\n",
       "<table border=\"1\" class=\"dataframe\">\n",
       "  <thead>\n",
       "    <tr style=\"text-align: right;\">\n",
       "      <th></th>\n",
       "      <th>Title</th>\n",
       "      <th>Price</th>\n",
       "      <th>Description</th>\n",
       "      <th>Image Link</th>\n",
       "      <th>Rating</th>\n",
       "      <th>Number of Reviews</th>\n",
       "    </tr>\n",
       "  </thead>\n",
       "  <tbody>\n",
       "    <tr>\n",
       "      <th>0</th>\n",
       "      <td>Lenovo Tab P11 Plus (1st Gen) - 2021 - Tablet ...</td>\n",
       "      <td>199.0</td>\n",
       "      <td>Description not found</td>\n",
       "      <td>https://m.media-amazon.com/images/I/519OAVXtTS...</td>\n",
       "      <td>4.4 out of 5 stars</td>\n",
       "      <td>936 ratings</td>\n",
       "    </tr>\n",
       "  </tbody>\n",
       "</table>\n",
       "</div>"
      ],
      "text/plain": [
       "                                               Title  Price  \\\n",
       "0  Lenovo Tab P11 Plus (1st Gen) - 2021 - Tablet ...  199.0   \n",
       "\n",
       "             Description                                         Image Link  \\\n",
       "0  Description not found  https://m.media-amazon.com/images/I/519OAVXtTS...   \n",
       "\n",
       "               Rating Number of Reviews  \n",
       "0  4.4 out of 5 stars       936 ratings  "
      ]
     },
     "execution_count": 5,
     "metadata": {},
     "output_type": "execute_result"
    }
   ],
   "source": [
    "df"
   ]
  },
  {
   "cell_type": "code",
   "execution_count": 6,
   "id": "7203a7b0-1b3f-4b85-94ac-d2e8f835bc26",
   "metadata": {},
   "outputs": [],
   "source": [
    "    title_element = soup.find('span', id='productTitle')\n",
    "    title = title_element.get_text()"
   ]
  },
  {
   "cell_type": "code",
   "execution_count": 7,
   "id": "a58e59f9-7fed-4285-a7ec-29259d6a1e98",
   "metadata": {},
   "outputs": [],
   "source": [
    "    title = title_element.get_text(strip=True) if title_element else 'Title not found'"
   ]
  },
  {
   "cell_type": "code",
   "execution_count": 8,
   "id": "13ae4416-8b3e-4fd8-b4c6-3104684248f4",
   "metadata": {},
   "outputs": [
    {
     "name": "stdout",
     "output_type": "stream",
     "text": [
      "Title: Lenovo Tab P11 Plus (1st Gen) - 2021 - Tablet - Long Battery Life - 11\" LCD - MediaTek Octa-Core Processor - 4GB Memory - 128GB Storage - Android 11 - Bluetooth & Wi-Fi,Gray\n"
     ]
    }
   ],
   "source": [
    "    print(f'Title: {title}')"
   ]
  },
  {
   "cell_type": "code",
   "execution_count": 9,
   "id": "a49f29d8-2c2a-4a5d-9ee7-0612de3df793",
   "metadata": {},
   "outputs": [],
   "source": [
    "    image_element = soup.find('div', id='imgTagWrapperId')\n",
    "    if image_element:\n",
    "        image_url = image_element.find('img')['src']\n",
    "    else:\n",
    "        image_url = 'Image link not found'"
   ]
  },
  {
   "cell_type": "code",
   "execution_count": 10,
   "id": "067b3128-6db2-4c82-8695-60c38b2724fe",
   "metadata": {},
   "outputs": [
    {
     "name": "stdout",
     "output_type": "stream",
     "text": [
      "Image link: https://m.media-amazon.com/images/I/519OAVXtTSL.__AC_SX300_SY300_QL70_ML2_.jpg\n"
     ]
    }
   ],
   "source": [
    "    print(f'Image link: {image_url}')"
   ]
  },
  {
   "cell_type": "code",
   "execution_count": 11,
   "id": "42f1f13a-56b1-481d-a48a-edc0ef1e3576",
   "metadata": {},
   "outputs": [],
   "source": [
    "    description_element = soup.find('div', id='productDescription')\n",
    "    description = description_element.get_text() if description_element else 'Description not found'"
   ]
  },
  {
   "cell_type": "code",
   "execution_count": 12,
   "id": "03da5123-c497-49f6-bc12-cd2abc476ada",
   "metadata": {},
   "outputs": [
    {
     "name": "stdout",
     "output_type": "stream",
     "text": [
      "Description: Description not found\n"
     ]
    }
   ],
   "source": [
    "    print(f'Description: {description}')"
   ]
  },
  {
   "cell_type": "code",
   "execution_count": 13,
   "id": "363f5412-78e1-4e29-bd20-d51e1f454cf7",
   "metadata": {},
   "outputs": [],
   "source": [
    "    price_element = soup.find('span', class_='a-price-whole')\n",
    "    price = price_element.get_text(strip=True) if price_element else 'Price not found'"
   ]
  },
  {
   "cell_type": "code",
   "execution_count": 14,
   "id": "7dd703ae-16f7-4be2-8d42-33b18c867c63",
   "metadata": {},
   "outputs": [
    {
     "name": "stdout",
     "output_type": "stream",
     "text": [
      "Price: 199.\n"
     ]
    }
   ],
   "source": [
    "    print(f'Price: {price}')"
   ]
  },
  {
   "cell_type": "code",
   "execution_count": 15,
   "id": "63094315-5214-4a54-af04-fbcdd6fae23f",
   "metadata": {},
   "outputs": [],
   "source": [
    "    # Extract the product rating\n",
    "    rating_element = soup.find('span', class_='reviewCountTextLinkedHistogram')\n",
    "    rating = rating_element['title'] if rating_element else 'Rating not found'\n",
    "    \n",
    "    # Extract the number of reviews\n",
    "    reviews_element = soup.find('span', id='acrCustomerReviewText')\n",
    "    reviews = reviews_element.get_text(strip=True) if reviews_element else 'Number of reviews not found'"
   ]
  },
  {
   "cell_type": "code",
   "execution_count": 16,
   "id": "52afd797-475f-4df0-b762-110108d4ce36",
   "metadata": {},
   "outputs": [
    {
     "name": "stdout",
     "output_type": "stream",
     "text": [
      "Rating: 4.4 out of 5 stars\n",
      "Number of reviews: 936 ratings\n"
     ]
    }
   ],
   "source": [
    "    print(f'Rating: {rating}')\n",
    "    print(f'Number of reviews: {reviews}')"
   ]
  },
  {
   "cell_type": "code",
   "execution_count": 17,
   "id": "0e7ffbcd-c136-4414-a754-38eeccfa1e7f",
   "metadata": {},
   "outputs": [],
   "source": [
    "import csv"
   ]
  },
  {
   "cell_type": "code",
   "execution_count": 18,
   "id": "7f878ce5-5b29-437d-8e45-b25138dc1b7a",
   "metadata": {},
   "outputs": [
    {
     "name": "stdout",
     "output_type": "stream",
     "text": [
      "Data has been saved to product_data.csv\n"
     ]
    }
   ],
   "source": [
    "    with open('2product_data.csv', mode='w', newline='') as csv_file:\n",
    "        writer = csv.writer(csv_file)\n",
    "        writer.writerow(['Title', 'Price', 'Description', 'Image Link', 'Rating', 'Number of Reviews'])\n",
    "        writer.writerow([title, price, description, image_url, rating, reviews])\n",
    "\n",
    "    print('Data has been saved to product_data.csv')"
   ]
  },
  {
   "cell_type": "code",
   "execution_count": null,
   "id": "3d469b56-0cb9-4dff-b804-d873551e64d4",
   "metadata": {},
   "outputs": [],
   "source": []
  }
 ],
 "metadata": {
  "kernelspec": {
   "display_name": "Python 3 (ipykernel)",
   "language": "python",
   "name": "python3"
  },
  "language_info": {
   "codemirror_mode": {
    "name": "ipython",
    "version": 3
   },
   "file_extension": ".py",
   "mimetype": "text/x-python",
   "name": "python",
   "nbconvert_exporter": "python",
   "pygments_lexer": "ipython3",
   "version": "3.11.7"
  }
 },
 "nbformat": 4,
 "nbformat_minor": 5
}
